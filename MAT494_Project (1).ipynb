{
  "nbformat": 4,
  "nbformat_minor": 0,
  "metadata": {
    "colab": {
      "name": "MAT494 Project",
      "provenance": []
    },
    "kernelspec": {
      "name": "python3",
      "display_name": "Python 3"
    },
    "language_info": {
      "name": "python"
    }
  },
  "cells": [
    {
      "cell_type": "code",
      "metadata": {
        "id": "2ov69AmNTMop",
        "colab": {
          "base_uri": "https://localhost:8080/"
        },
        "outputId": "67102592-9cf8-4ca0-935e-63488fb5047a"
      },
      "source": [
        "import pandas as pd\n",
        "import numpy as np\n",
        "import statsmodels.api as sm\n",
        "import matplotlib.pyplot as plt\n",
        "from sklearn import linear_model\n",
        "from google.colab import drive"
      ],
      "execution_count": 2,
      "outputs": [
        {
          "output_type": "stream",
          "name": "stderr",
          "text": [
            "/usr/local/lib/python3.7/dist-packages/statsmodels/tools/_testing.py:19: FutureWarning: pandas.util.testing is deprecated. Use the functions in the public API at pandas.testing instead.\n",
            "  import pandas.util.testing as tm\n"
          ]
        }
      ]
    },
    {
      "cell_type": "code",
      "metadata": {
        "colab": {
          "base_uri": "https://localhost:8080/"
        },
        "id": "Kd3oXMK2UMFV",
        "outputId": "9b9ced1f-4cb7-425a-a8aa-3245b38fb0fb"
      },
      "source": [
        "# Authorize Google Collab to Google Drive:\n",
        "drive.mount('/content/drive')"
      ],
      "execution_count": 3,
      "outputs": [
        {
          "output_type": "stream",
          "name": "stdout",
          "text": [
            "Mounted at /content/drive\n"
          ]
        }
      ]
    },
    {
      "cell_type": "code",
      "metadata": {
        "id": "5NBDYMuGXgUv"
      },
      "source": [
        "# Upload CSV file:\n",
        "dataLA=pd.read_csv('/content/drive/MyDrive/data/losangeles.csv')"
      ],
      "execution_count": 5,
      "outputs": []
    },
    {
      "cell_type": "code",
      "metadata": {
        "colab": {
          "base_uri": "https://localhost:8080/",
          "height": 202
        },
        "id": "AN5XeDOlui55",
        "outputId": "aa8a84f5-3b62-4e3f-913c-6cb199f75dc2"
      },
      "source": [
        "dataLA.head()"
      ],
      "execution_count": 6,
      "outputs": [
        {
          "output_type": "execute_result",
          "data": {
            "text/html": [
              "<div>\n",
              "<style scoped>\n",
              "    .dataframe tbody tr th:only-of-type {\n",
              "        vertical-align: middle;\n",
              "    }\n",
              "\n",
              "    .dataframe tbody tr th {\n",
              "        vertical-align: top;\n",
              "    }\n",
              "\n",
              "    .dataframe thead th {\n",
              "        text-align: right;\n",
              "    }\n",
              "</style>\n",
              "<table border=\"1\" class=\"dataframe\">\n",
              "  <thead>\n",
              "    <tr style=\"text-align: right;\">\n",
              "      <th></th>\n",
              "      <th>cases</th>\n",
              "      <th>aqi</th>\n",
              "    </tr>\n",
              "  </thead>\n",
              "  <tbody>\n",
              "    <tr>\n",
              "      <th>0</th>\n",
              "      <td>25</td>\n",
              "      <td>45</td>\n",
              "    </tr>\n",
              "    <tr>\n",
              "      <th>1</th>\n",
              "      <td>19</td>\n",
              "      <td>38</td>\n",
              "    </tr>\n",
              "    <tr>\n",
              "      <th>2</th>\n",
              "      <td>13</td>\n",
              "      <td>31</td>\n",
              "    </tr>\n",
              "    <tr>\n",
              "      <th>3</th>\n",
              "      <td>19</td>\n",
              "      <td>38</td>\n",
              "    </tr>\n",
              "    <tr>\n",
              "      <th>4</th>\n",
              "      <td>34</td>\n",
              "      <td>59</td>\n",
              "    </tr>\n",
              "  </tbody>\n",
              "</table>\n",
              "</div>"
            ],
            "text/plain": [
              "   cases  aqi\n",
              "0     25   45\n",
              "1     19   38\n",
              "2     13   31\n",
              "3     19   38\n",
              "4     34   59"
            ]
          },
          "metadata": {},
          "execution_count": 6
        }
      ]
    },
    {
      "cell_type": "code",
      "metadata": {
        "colab": {
          "base_uri": "https://localhost:8080/",
          "height": 296
        },
        "id": "ScXzyozKurPx",
        "outputId": "d357d597-201f-43a8-a4ee-013b3812fd70"
      },
      "source": [
        "# Plot the graph:\n",
        "plt.xlabel('COVID Cases (new cases)')\n",
        "plt.ylabel('Air Quality (aqi)')\n",
        "plt.scatter(dataLA.cases,dataLA.aqi)"
      ],
      "execution_count": 7,
      "outputs": [
        {
          "output_type": "execute_result",
          "data": {
            "text/plain": [
              "<matplotlib.collections.PathCollection at 0x7faff8c2afd0>"
            ]
          },
          "metadata": {},
          "execution_count": 7
        },
        {
          "output_type": "display_data",
          "data": {
            "image/png": "[encoded data removed]",
            "text/plain": [
              "<Figure size 432x288 with 1 Axes>"
            ]
          },
          "metadata": {
            "needs_background": "light"
          }
        }
      ]
    },
    {
      "cell_type": "code",
      "metadata": {
        "colab": {
          "base_uri": "https://localhost:8080/"
        },
        "id": "PMf17qqp44OQ",
        "outputId": "ead7b099-c70a-4cb4-be95-862fccf778f5"
      },
      "source": [
        "reg=linear_model.LinearRegression()\n",
        "reg.fit(dataLA[['cases']],dataLA.aqi)"
      ],
      "execution_count": 8,
      "outputs": [
        {
          "output_type": "execute_result",
          "data": {
            "text/plain": [
              "LinearRegression(copy_X=True, fit_intercept=True, n_jobs=None, normalize=False)"
            ]
          },
          "metadata": {},
          "execution_count": 8
        }
      ]
    },
    {
      "cell_type": "code",
      "metadata": {
        "colab": {
          "base_uri": "https://localhost:8080/"
        },
        "id": "9YWDtKtk6Gse",
        "outputId": "b0c416bf-447c-4176-8879-751340f3b05f"
      },
      "source": [
        "reg.coef_"
      ],
      "execution_count": 9,
      "outputs": [
        {
          "output_type": "execute_result",
          "data": {
            "text/plain": [
              "array([-0.00061432])"
            ]
          },
          "metadata": {},
          "execution_count": 9
        }
      ]
    },
    {
      "cell_type": "code",
      "metadata": {
        "colab": {
          "base_uri": "https://localhost:8080/"
        },
        "id": "eO97OqW37fMx",
        "outputId": "e9c34868-224e-4787-c353-448b61c0b351"
      },
      "source": [
        "reg.intercept_"
      ],
      "execution_count": 10,
      "outputs": [
        {
          "output_type": "execute_result",
          "data": {
            "text/plain": [
              "54.73979446467324"
            ]
          },
          "metadata": {},
          "execution_count": 10
        }
      ]
    },
    {
      "cell_type": "code",
      "metadata": {
        "colab": {
          "base_uri": "https://localhost:8080/"
        },
        "id": "MT6lkVgWMe03",
        "outputId": "908a0f00-ca4a-45be-d87f-fa724b0ef0f3"
      },
      "source": [
        "# Re define variables, and print first linear model:\n",
        "XVar=dataLA.drop('aqi',axis=1)\n",
        "YVar=dataLA[['aqi']]\n",
        "linearModel1=sm.OLS(YVar,XVar).fit()\n",
        "print(linearModel1.summary())"
      ],
      "execution_count": 14,
      "outputs": [
        {
          "output_type": "stream",
          "name": "stdout",
          "text": [
            "                                 OLS Regression Results                                \n",
            "=======================================================================================\n",
            "Dep. Variable:                    aqi   R-squared (uncentered):                   0.227\n",
            "Model:                            OLS   Adj. R-squared (uncentered):              0.225\n",
            "Method:                 Least Squares   F-statistic:                              89.76\n",
            "Date:                Sun, 14 Nov 2021   Prob (F-statistic):                    7.79e-19\n",
            "Time:                        20:48:24   Log-Likelihood:                         -1639.2\n",
            "No. Observations:                 306   AIC:                                      3280.\n",
            "Df Residuals:                     305   BIC:                                      3284.\n",
            "Df Model:                           1                                                  \n",
            "Covariance Type:            nonrobust                                                  \n",
            "==============================================================================\n",
            "                 coef    std err          t      P>|t|      [0.025      0.975]\n",
            "------------------------------------------------------------------------------\n",
            "cases          0.0058      0.001      9.474      0.000       0.005       0.007\n",
            "==============================================================================\n",
            "Omnibus:                       41.001   Durbin-Watson:                   0.135\n",
            "Prob(Omnibus):                  0.000   Jarque-Bera (JB):              147.009\n",
            "Skew:                          -0.506   Prob(JB):                     1.20e-32\n",
            "Kurtosis:                       6.241   Cond. No.                         1.00\n",
            "==============================================================================\n",
            "\n",
            "Warnings:\n",
            "[1] Standard Errors assume that the covariance matrix of the errors is correctly specified.\n"
          ]
        }
      ]
    },
    {
      "cell_type": "code",
      "metadata": {
        "colab": {
          "base_uri": "https://localhost:8080/"
        },
        "id": "kExL7mNGONzV",
        "outputId": "721824f6-a1c1-485f-ca69-fbad72e56545"
      },
      "source": [
        "# Add constant to XVar to determine intercept:\n",
        "XVar2=sm.add_constant(XVar)\n",
        "linearModel2=sm.OLS(YVar,XVar2).fit()\n",
        "print(linearModel2.summary())"
      ],
      "execution_count": 17,
      "outputs": [
        {
          "output_type": "stream",
          "name": "stdout",
          "text": [
            "                            OLS Regression Results                            \n",
            "==============================================================================\n",
            "Dep. Variable:                    aqi   R-squared:                       0.010\n",
            "Model:                            OLS   Adj. R-squared:                  0.007\n",
            "Method:                 Least Squares   F-statistic:                     3.069\n",
            "Date:                Sun, 14 Nov 2021   Prob (F-statistic):             0.0808\n",
            "Time:                        20:58:40   Log-Likelihood:                -1408.9\n",
            "No. Observations:                 306   AIC:                             2822.\n",
            "Df Residuals:                     304   BIC:                             2829.\n",
            "Df Model:                           1                                         \n",
            "Covariance Type:            nonrobust                                         \n",
            "==============================================================================\n",
            "                 coef    std err          t      P>|t|      [0.025      0.975]\n",
            "------------------------------------------------------------------------------\n",
            "const         54.7398      1.677     32.645      0.000      51.440      58.039\n",
            "cases         -0.0006      0.000     -1.752      0.081      -0.001    7.58e-05\n",
            "==============================================================================\n",
            "Omnibus:                      103.058   Durbin-Watson:                   0.412\n",
            "Prob(Omnibus):                  0.000   Jarque-Bera (JB):              366.005\n",
            "Skew:                           1.440   Prob(JB):                     3.33e-80\n",
            "Kurtosis:                       7.517   Cond. No.                     5.78e+03\n",
            "==============================================================================\n",
            "\n",
            "Warnings:\n",
            "[1] Standard Errors assume that the covariance matrix of the errors is correctly specified.\n",
            "[2] The condition number is large, 5.78e+03. This might indicate that there are\n",
            "strong multicollinearity or other numerical problems.\n"
          ]
        }
      ]
    },
    {
      "cell_type": "code",
      "metadata": {
        "id": "jt-PqccCDdX3"
      },
      "source": [
        "# Upload CSV file:\n",
        "dataPHX=pd.read_csv('/content/drive/MyDrive/data/phoenix.csv')"
      ],
      "execution_count": 19,
      "outputs": []
    },
    {
      "cell_type": "code",
      "metadata": {
        "colab": {
          "base_uri": "https://localhost:8080/",
          "height": 202
        },
        "id": "RWsBlvwzVnBS",
        "outputId": "98f0925e-d6db-4c89-cd2e-ec6d46a1f5e0"
      },
      "source": [
        "dataPHX.head()"
      ],
      "execution_count": 20,
      "outputs": [
        {
          "output_type": "execute_result",
          "data": {
            "text/html": [
              "<div>\n",
              "<style scoped>\n",
              "    .dataframe tbody tr th:only-of-type {\n",
              "        vertical-align: middle;\n",
              "    }\n",
              "\n",
              "    .dataframe tbody tr th {\n",
              "        vertical-align: top;\n",
              "    }\n",
              "\n",
              "    .dataframe thead th {\n",
              "        text-align: right;\n",
              "    }\n",
              "</style>\n",
              "<table border=\"1\" class=\"dataframe\">\n",
              "  <thead>\n",
              "    <tr style=\"text-align: right;\">\n",
              "      <th></th>\n",
              "      <th>cases</th>\n",
              "      <th>aqi</th>\n",
              "    </tr>\n",
              "  </thead>\n",
              "  <tbody>\n",
              "    <tr>\n",
              "      <th>0</th>\n",
              "      <td>60</td>\n",
              "      <td>25</td>\n",
              "    </tr>\n",
              "    <tr>\n",
              "      <th>1</th>\n",
              "      <td>52</td>\n",
              "      <td>19</td>\n",
              "    </tr>\n",
              "    <tr>\n",
              "      <th>2</th>\n",
              "      <td>48</td>\n",
              "      <td>22</td>\n",
              "    </tr>\n",
              "    <tr>\n",
              "      <th>3</th>\n",
              "      <td>100</td>\n",
              "      <td>11</td>\n",
              "    </tr>\n",
              "    <tr>\n",
              "      <th>4</th>\n",
              "      <td>55</td>\n",
              "      <td>13</td>\n",
              "    </tr>\n",
              "  </tbody>\n",
              "</table>\n",
              "</div>"
            ],
            "text/plain": [
              "   cases  aqi\n",
              "0     60   25\n",
              "1     52   19\n",
              "2     48   22\n",
              "3    100   11\n",
              "4     55   13"
            ]
          },
          "metadata": {},
          "execution_count": 20
        }
      ]
    },
    {
      "cell_type": "code",
      "metadata": {
        "colab": {
          "base_uri": "https://localhost:8080/",
          "height": 296
        },
        "id": "2x1zeChCVs7b",
        "outputId": "65e5c4fc-9115-49a7-fa29-f1001f65a9d3"
      },
      "source": [
        "# Plot the graph\n",
        "plt.scatter(dataPHX.cases,dataPHX.aqi)\n",
        "plt.xlabel('COVID Cases (new cases)')\n",
        "plt.ylabel('Air Quality (aqi)')"
      ],
      "execution_count": 21,
      "outputs": [
        {
          "output_type": "execute_result",
          "data": {
            "text/plain": [
              "Text(0, 0.5, 'Air Quality (aqi)')"
            ]
          },
          "metadata": {},
          "execution_count": 21
        },
        {
          "output_type": "display_data",
          "data": {
            "image/png": "[encoded data removed]",
            "text/plain": [
              "<Figure size 432x288 with 1 Axes>"
            ]
          },
          "metadata": {
            "needs_background": "light"
          }
        }
      ]
    },
    {
      "cell_type": "code",
      "metadata": {
        "colab": {
          "base_uri": "https://localhost:8080/"
        },
        "id": "tiqxMjAnX2Zo",
        "outputId": "0ce1e219-2bc2-4a56-c739-5e14652e186c"
      },
      "source": [
        "#  Re define variables, and print first linear model:\n",
        "XVar3=dataPHX[['cases']]\n",
        "YVar3=dataPHX[['aqi']]\n",
        "LinearModel3=sm.OLS(YVar3,XVar3).fit()\n",
        "print(LinearModel3.summary())"
      ],
      "execution_count": 23,
      "outputs": [
        {
          "output_type": "stream",
          "name": "stdout",
          "text": [
            "                                 OLS Regression Results                                \n",
            "=======================================================================================\n",
            "Dep. Variable:                    aqi   R-squared (uncentered):                   0.448\n",
            "Model:                            OLS   Adj. R-squared (uncentered):              0.446\n",
            "Method:                 Least Squares   F-statistic:                              228.6\n",
            "Date:                Sun, 14 Nov 2021   Prob (F-statistic):                    3.12e-38\n",
            "Time:                        21:18:16   Log-Likelihood:                         -1362.3\n",
            "No. Observations:                 283   AIC:                                      2727.\n",
            "Df Residuals:                     282   BIC:                                      2730.\n",
            "Df Model:                           1                                                  \n",
            "Covariance Type:            nonrobust                                                  \n",
            "==============================================================================\n",
            "                 coef    std err          t      P>|t|      [0.025      0.975]\n",
            "------------------------------------------------------------------------------\n",
            "cases          0.0153      0.001     15.120      0.000       0.013       0.017\n",
            "==============================================================================\n",
            "Omnibus:                       32.285   Durbin-Watson:                   0.635\n",
            "Prob(Omnibus):                  0.000   Jarque-Bera (JB):               75.912\n",
            "Skew:                          -0.547   Prob(JB):                     3.28e-17\n",
            "Kurtosis:                       5.289   Cond. No.                         1.00\n",
            "==============================================================================\n",
            "\n",
            "Warnings:\n",
            "[1] Standard Errors assume that the covariance matrix of the errors is correctly specified.\n"
          ]
        }
      ]
    },
    {
      "cell_type": "code",
      "metadata": {
        "colab": {
          "base_uri": "https://localhost:8080/"
        },
        "id": "gGcV3HJCXLGD",
        "outputId": "328956b3-fabf-4e6c-a598-481864fc8033"
      },
      "source": [
        "reg=linear_model.LinearRegression()\n",
        "reg.fit(dataPHX[['cases']],dataPHX.aqi)"
      ],
      "execution_count": null,
      "outputs": [
        {
          "output_type": "execute_result",
          "data": {
            "text/plain": [
              "LinearRegression(copy_X=True, fit_intercept=True, n_jobs=None, normalize=False)"
            ]
          },
          "metadata": {},
          "execution_count": 29
        }
      ]
    },
    {
      "cell_type": "code",
      "metadata": {
        "colab": {
          "base_uri": "https://localhost:8080/"
        },
        "id": "-VivEvDcUwM2",
        "outputId": "bcf1e007-1dee-4a7c-8082-89843e741b35"
      },
      "source": [
        "# Add constant to XVar to determine intercept\n",
        "XVar4=sm.add_constant(XVar3)\n",
        "linearModel2=sm.OLS(YVar,XVar4).fit()\n",
        "print(linearModel2.summary())"
      ],
      "execution_count": 24,
      "outputs": [
        {
          "output_type": "stream",
          "name": "stdout",
          "text": [
            "                            OLS Regression Results                            \n",
            "==============================================================================\n",
            "Dep. Variable:                    aqi   R-squared:                       0.081\n",
            "Model:                            OLS   Adj. R-squared:                  0.078\n",
            "Method:                 Least Squares   F-statistic:                     24.81\n",
            "Date:                Sun, 14 Nov 2021   Prob (F-statistic):           1.11e-06\n",
            "Time:                        21:18:32   Log-Likelihood:                -1223.1\n",
            "No. Observations:                 283   AIC:                             2450.\n",
            "Df Residuals:                     281   BIC:                             2458.\n",
            "Df Model:                           1                                         \n",
            "Covariance Type:            nonrobust                                         \n",
            "==============================================================================\n",
            "                 coef    std err          t      P>|t|      [0.025      0.975]\n",
            "------------------------------------------------------------------------------\n",
            "const         30.7851      1.419     21.696      0.000      27.992      33.578\n",
            "cases          0.0040      0.001      4.980      0.000       0.002       0.006\n",
            "==============================================================================\n",
            "Omnibus:                       71.512   Durbin-Watson:                   0.624\n",
            "Prob(Omnibus):                  0.000   Jarque-Bera (JB):              141.993\n",
            "Skew:                           1.295   Prob(JB):                     1.47e-31\n",
            "Kurtosis:                       5.309   Cond. No.                     2.29e+03\n",
            "==============================================================================\n",
            "\n",
            "Warnings:\n",
            "[1] Standard Errors assume that the covariance matrix of the errors is correctly specified.\n",
            "[2] The condition number is large, 2.29e+03. This might indicate that there are\n",
            "strong multicollinearity or other numerical problems.\n"
          ]
        }
      ]
    }
  ]
}